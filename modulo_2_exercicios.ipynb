{
  "nbformat": 4,
  "nbformat_minor": 0,
  "metadata": {
    "colab": {
      "provenance": [],
      "toc_visible": true,
      "include_colab_link": true
    },
    "kernelspec": {
      "name": "python3",
      "display_name": "Python 3"
    }
  },
  "cells": [
    {
      "cell_type": "markdown",
      "metadata": {
        "id": "view-in-github",
        "colab_type": "text"
      },
      "source": [
        "<a href=\"https://colab.research.google.com/github/rocknree/DataScientistEBAC/blob/main/modulo_2_exercicios.ipynb\" target=\"_parent\"><img src=\"https://colab.research.google.com/assets/colab-badge.svg\" alt=\"Open In Colab\"/></a>"
      ]
    },
    {
      "cell_type": "markdown",
      "metadata": {
        "id": "KJqp9AANOCtf"
      },
      "source": [
        "<img src=\"https://raw.githubusercontent.com/andre-marcos-perez/ebac-course-utils/main/media/logo/newebac_logo_black_half.png\" alt=\"ebac-logo\">\n",
        "\n",
        "---\n",
        "\n",
        "# **Módulo 02** | Python: Estruturas de Dados\n",
        "Caderno de **Exercícios**<br> \n",
        "Professor [André Perez](https://www.linkedin.com/in/andremarcosperez/)\n",
        "\n",
        "---"
      ]
    },
    {
      "cell_type": "markdown",
      "metadata": {
        "id": "d9jDtUbDOE1-"
      },
      "source": [
        "# **Tópicos**\n",
        "\n",
        "<ol type=\"1\">\n",
        "  <li>Listas;</li>\n",
        "  <li>Conjuntos;</li>\n",
        "  <li>Dicionários.</li>\n",
        "</ol>"
      ]
    },
    {
      "cell_type": "markdown",
      "metadata": {
        "id": "SmoHgt-lwkpD"
      },
      "source": [
        "---"
      ]
    },
    {
      "cell_type": "markdown",
      "metadata": {
        "id": "GABI6OW8OfQ2"
      },
      "source": [
        "# **Exercícios**"
      ]
    },
    {
      "cell_type": "markdown",
      "metadata": {
        "id": "muD1vxozykSC"
      },
      "source": [
        "## 1\\. Listas"
      ]
    },
    {
      "cell_type": "markdown",
      "metadata": {
        "id": "ahrFfCuBxJKs"
      },
      "source": [
        "Criei uma lista chamada `filmes` com o nome dos 10 primeiros filmes mais bem avaliados no site no [IMDB](https://www.imdb.com/chart/top/). Imprima o resultado."
      ]
    },
    {
      "cell_type": "code",
      "metadata": {
        "id": "OgL6Hv3bzOHI",
        "colab": {
          "base_uri": "https://localhost:8080/"
        },
        "outputId": "3743f08b-057e-4fa5-acae-49dd2feaf13c"
      },
      "source": [
        "filmes = ['Um sonho de liberdade',\n",
        "          'O poderoso chefão',\n",
        "          'Batman, o cavaleiro das trevas',\n",
        "          'O poderoso chefão II',\n",
        "          '12 homens e uma sentença',\n",
        "          'A lista de Schindler',\n",
        "          'O Senhor dos Anéis',\n",
        "          'Pulp Fiction',\n",
        "          'O Senhor dos Anéis 2',\n",
        "          'Três homens em conflito'\n",
        "          ]\n",
        "\n",
        "print(filmes)"
      ],
      "execution_count": 19,
      "outputs": [
        {
          "output_type": "stream",
          "name": "stdout",
          "text": [
            "['Um sonho de liberdade', 'O poderoso chefão', 'Batman, o cavaleiro das trevas', 'O poderoso chefão II', '12 homens e uma sentença', 'A lista de Schindler', 'O Senhor dos Anéis', 'Pulp Fiction', 'O Senhor dos Anéis 2', 'Três homens em conflito']\n"
          ]
        }
      ]
    },
    {
      "cell_type": "markdown",
      "metadata": {
        "id": "KI9zQRT2xa7m"
      },
      "source": [
        "Simule a movimentação do *ranking*. Utilize os métodos `insert` e `pop` para trocar a posição do primeiro e do segundo filme da lista. Imprima o resultado.\n",
        "\n"
      ]
    },
    {
      "cell_type": "code",
      "source": [
        "filmes.insert(0, 'O poderoso chefão')\n",
        "print(filmes)"
      ],
      "metadata": {
        "colab": {
          "base_uri": "https://localhost:8080/"
        },
        "id": "DXu5mjJZkGkb",
        "outputId": "aa753301-c850-40a8-df60-aea1b333eebd"
      },
      "execution_count": 25,
      "outputs": [
        {
          "output_type": "stream",
          "name": "stdout",
          "text": [
            "['O poderoso chefão', 'O poderoso chefão', 'Um sonho de liberdade', 'O poderoso chefão', 'Batman, o cavaleiro das trevas', 'O poderoso chefão II', '12 homens e uma sentença', 'A lista de Schindler', 'O Senhor dos Anéis', 'Pulp Fiction', 'O Senhor dos Anéis 2', 'Três homens em conflito']\n"
          ]
        }
      ]
    },
    {
      "cell_type": "code",
      "source": [
        "filmes.pop(2)\n",
        "print(filmes)"
      ],
      "metadata": {
        "colab": {
          "base_uri": "https://localhost:8080/"
        },
        "id": "MCrbK-4_kWzY",
        "outputId": "405d2e18-caf1-41c9-8d13-2aeb60e92ff8"
      },
      "execution_count": 27,
      "outputs": [
        {
          "output_type": "stream",
          "name": "stdout",
          "text": [
            "['O poderoso chefão', 'Um sonho de liberdade', 'Batman, o cavaleiro das trevas', 'O poderoso chefão II', '12 homens e uma sentença', 'A lista de Schindler', 'O Senhor dos Anéis', 'Pulp Fiction', 'O Senhor dos Anéis 2', 'Três homens em conflito']\n"
          ]
        }
      ]
    },
    {
      "cell_type": "markdown",
      "metadata": {
        "id": "lxa5L6uF0ZJE"
      },
      "source": [
        "## 2\\. Conjuntos"
      ]
    },
    {
      "cell_type": "markdown",
      "metadata": {
        "id": "9JahS2Kj0d5u"
      },
      "source": [
        "Aconteceu um erro no seu *ranking*. Simule a duplicação dos três últimos filmes da lista. Imprima o resultado."
      ]
    },
    {
      "cell_type": "code",
      "metadata": {
        "id": "BnjnLBNC6PGe",
        "colab": {
          "base_uri": "https://localhost:8080/"
        },
        "outputId": "8789bcd6-bea6-4c0f-b0ce-71896a4876eb"
      },
      "source": [
        "filmes.append('Pulp Fiction')\n",
        "filmes.append('O Senhor dos Anéis 2')\n",
        "filmes.append('Três homens em conflito')\n",
        "print(filmes)\n",
        "print(len(filmes))"
      ],
      "execution_count": 35,
      "outputs": [
        {
          "output_type": "stream",
          "name": "stdout",
          "text": [
            "['O poderoso chefão', 'Um sonho de liberdade', 'Batman, o cavaleiro das trevas', 'O poderoso chefão II', '12 homens e uma sentença', 'A lista de Schindler', 'O Senhor dos Anéis', 'Pulp Fiction', 'O Senhor dos Anéis 2', 'Três homens em conflito', 'Pulp Fiction', 'O Senhor dos Anéis 2', 'Três homens em conflito', 'Pulp Fiction', 'O Senhor dos Anéis 2', 'Três homens em conflito']\n",
            "16\n"
          ]
        }
      ]
    },
    {
      "cell_type": "markdown",
      "metadata": {
        "id": "suxTfCJB6ZiX"
      },
      "source": [
        "Utiliza a conversão `set` e `list` para remover os valores duplicados. Imprima o resultado. "
      ]
    },
    {
      "cell_type": "code",
      "metadata": {
        "id": "ZvUGN-0n6joM",
        "colab": {
          "base_uri": "https://localhost:8080/"
        },
        "outputId": "0c8043df-acba-4642-a4db-ff4cf4b2ae39"
      },
      "source": [
        "print(set(filmes))\n",
        "print(len(set(filmes)))"
      ],
      "execution_count": 37,
      "outputs": [
        {
          "output_type": "stream",
          "name": "stdout",
          "text": [
            "{'Batman, o cavaleiro das trevas', '12 homens e uma sentença', 'Pulp Fiction', 'Três homens em conflito', 'O Senhor dos Anéis', 'O poderoso chefão II', 'O Senhor dos Anéis 2', 'Um sonho de liberdade', 'A lista de Schindler', 'O poderoso chefão'}\n",
            "10\n"
          ]
        }
      ]
    },
    {
      "cell_type": "code",
      "source": [
        "print(list(filmes))"
      ],
      "metadata": {
        "colab": {
          "base_uri": "https://localhost:8080/"
        },
        "id": "X7F4HGE4mAsZ",
        "outputId": "bd9af584-d148-405a-8a56-a322ce355829"
      },
      "execution_count": 38,
      "outputs": [
        {
          "output_type": "stream",
          "name": "stdout",
          "text": [
            "['O poderoso chefão', 'Um sonho de liberdade', 'Batman, o cavaleiro das trevas', 'O poderoso chefão II', '12 homens e uma sentença', 'A lista de Schindler', 'O Senhor dos Anéis', 'Pulp Fiction', 'O Senhor dos Anéis 2', 'Três homens em conflito', 'Pulp Fiction', 'O Senhor dos Anéis 2', 'Três homens em conflito', 'Pulp Fiction', 'O Senhor dos Anéis 2', 'Três homens em conflito']\n"
          ]
        }
      ]
    },
    {
      "cell_type": "markdown",
      "metadata": {
        "id": "ShkK35eQ6pAM"
      },
      "source": [
        "---"
      ]
    },
    {
      "cell_type": "markdown",
      "metadata": {
        "id": "EL_FzmxL6rTv"
      },
      "source": [
        "## 3\\. Dicionários"
      ]
    },
    {
      "cell_type": "markdown",
      "metadata": {
        "id": "i8l0gFqRCpfT"
      },
      "source": [
        "Repita os exercícios da parte 1 (listas). Os elementos da lista `filmes` devem ser dicionários no seguinte formato: `{'nome': <nome-do-filme>, 'ano': <ano do filme>}, 'sinopse': <sinopse do filme>}`. "
      ]
    },
    {
      "cell_type": "code",
      "source": [
        "dicionario_filmes = []\n",
        "\n",
        "filmes = {\n",
        "    'nome': 'Um Sonho de Liberdade',\n",
        "    'ano': '1994',\n",
        "    'sinopse': 'Dois homens presos se reúnem ao longo de vários anos, encontrando consolo e eventual redenção através de atos de decência comum.'\n",
        "    }  \n",
        "\n",
        "dicionario_filmes.append(filmes)\n",
        "print(dicionario_filmes)"
      ],
      "metadata": {
        "colab": {
          "base_uri": "https://localhost:8080/"
        },
        "id": "B47KWmIAmoEy",
        "outputId": "c62b2497-4ead-42bd-fea9-c168498e3aa8"
      },
      "execution_count": 43,
      "outputs": [
        {
          "output_type": "stream",
          "name": "stdout",
          "text": [
            "[{'nome': 'Um Sonho de Liberdade', 'ano': '1994', 'sinopse': 'Dois homens presos se reúnem ao longo de vários anos, encontrando consolo e eventual redenção através de atos de decência comum.'}]\n"
          ]
        }
      ]
    },
    {
      "cell_type": "code",
      "source": [
        "filmes = {\n",
        "    'nome': 'O poderoso chefão',\n",
        "    'ano': '1972',\n",
        "    'sinopse': 'O patriarca idoso de uma dinastia do crime organizado transfere o controle de seu império clandestino para seu filho relutante.'\n",
        "    }  \n",
        "\n",
        "dicionario_filmes.append(filmes)\n",
        "print(dicionario_filmes)"
      ],
      "metadata": {
        "colab": {
          "base_uri": "https://localhost:8080/"
        },
        "id": "9TIq7ULGoTPs",
        "outputId": "13089876-c882-4b0d-b186-71d25308b2bf"
      },
      "execution_count": 44,
      "outputs": [
        {
          "output_type": "stream",
          "name": "stdout",
          "text": [
            "[{'nome': 'Um Sonho de Liberdade', 'ano': '1994', 'sinopse': 'Dois homens presos se reúnem ao longo de vários anos, encontrando consolo e eventual redenção através de atos de decência comum.'}, {'nome': 'O poderoso chefão', 'ano': '1972', 'sinopse': 'O patriarca idoso de uma dinastia do crime organizado transfere o controle de seu império clandestino para seu filho relutante.'}]\n"
          ]
        }
      ]
    },
    {
      "cell_type": "code",
      "source": [
        "filmes = {\n",
        "    'nome': 'Batman: O Cavaleiro das Trevas',\n",
        "    'ano': '2008',\n",
        "    'sinopse': 'Quando a ameaça conhecida como O Coringa surge de seu passado, causa estragos e caos nas pessoas de Gotham. O Cavaleiro das Trevas deve aceitar um dos maiores testes para combater a injustiça.'\n",
        "    }  \n",
        "\n",
        "dicionario_filmes.append(filmes)\n",
        "print(dicionario_filmes)"
      ],
      "metadata": {
        "colab": {
          "base_uri": "https://localhost:8080/"
        },
        "id": "0qNYNafzojvL",
        "outputId": "7dd85ccd-42b9-4347-e51c-189c6cfec195"
      },
      "execution_count": 45,
      "outputs": [
        {
          "output_type": "stream",
          "name": "stdout",
          "text": [
            "[{'nome': 'Um Sonho de Liberdade', 'ano': '1994', 'sinopse': 'Dois homens presos se reúnem ao longo de vários anos, encontrando consolo e eventual redenção através de atos de decência comum.'}, {'nome': 'O poderoso chefão', 'ano': '1972', 'sinopse': 'O patriarca idoso de uma dinastia do crime organizado transfere o controle de seu império clandestino para seu filho relutante.'}, {'nome': 'Batman: O Cavaleiro das Trevas', 'ano': '2008', 'sinopse': 'Quando a ameaça conhecida como O Coringa surge de seu passado, causa estragos e caos nas pessoas de Gotham. O Cavaleiro das Trevas deve aceitar um dos maiores testes para combater a injustiça.'}]\n"
          ]
        }
      ]
    }
  ]
}