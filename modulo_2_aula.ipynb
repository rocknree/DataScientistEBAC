{
  "nbformat": 4,
  "nbformat_minor": 0,
  "metadata": {
    "colab": {
      "provenance": [],
      "toc_visible": true,
      "include_colab_link": true
    },
    "kernelspec": {
      "name": "python3",
      "display_name": "Python 3"
    }
  },
  "cells": [
    {
      "cell_type": "markdown",
      "metadata": {
        "id": "view-in-github",
        "colab_type": "text"
      },
      "source": [
        "<a href=\"https://colab.research.google.com/github/rocknree/DataScientistEBAC/blob/main/modulo_2_aula.ipynb\" target=\"_parent\"><img src=\"https://colab.research.google.com/assets/colab-badge.svg\" alt=\"Open In Colab\"/></a>"
      ]
    },
    {
      "cell_type": "markdown",
      "metadata": {
        "id": "KJqp9AANOCtf"
      },
      "source": [
        "<img src=\"https://raw.githubusercontent.com/andre-marcos-perez/ebac-course-utils/main/media/logo/newebac_logo_black_half.png\" alt=\"ebac-logo\">\n",
        "\n",
        "---\n",
        "\n",
        "# **Módulo 02** | Python: Estruturas de Dados\n",
        "Caderno de **Aula**<br> \n",
        "Professor [André Perez](https://www.linkedin.com/in/andremarcosperez/)\n",
        "\n",
        "---"
      ]
    },
    {
      "cell_type": "markdown",
      "metadata": {
        "id": "d9jDtUbDOE1-"
      },
      "source": [
        "# **Tópicos**\n",
        "\n",
        "<ol type=\"1\">\n",
        "  <li>Listas;</li>\n",
        "  <li>Conjuntos;</li>\n",
        "  <li>Dicionários.</li>\n",
        "</ol>"
      ]
    },
    {
      "cell_type": "markdown",
      "metadata": {
        "id": "SmoHgt-lwkpD"
      },
      "source": [
        "---"
      ]
    },
    {
      "cell_type": "markdown",
      "metadata": {
        "id": "GABI6OW8OfQ2"
      },
      "source": [
        "# **Aulas**"
      ]
    },
    {
      "cell_type": "markdown",
      "metadata": {
        "id": "muD1vxozykSC"
      },
      "source": [
        "## 1\\. Listas"
      ]
    },
    {
      "cell_type": "markdown",
      "metadata": {
        "id": "5a3_syBIP6yO"
      },
      "source": [
        "### **1.1. Motivação** "
      ]
    },
    {
      "cell_type": "markdown",
      "metadata": {
        "id": "BmXmjEay_JOP"
      },
      "source": [
        "O aplicativo do seu banco registra toda a sua movimentação financeira. O final do dia, o app consolida o saldo final para que você possa controlar sua vida financeira."
      ]
    },
    {
      "cell_type": "code",
      "metadata": {
        "id": "9N1LJEm7AlyF"
      },
      "source": [
        "dia_11_saldo_inicial = 1000"
      ],
      "execution_count": null,
      "outputs": []
    },
    {
      "cell_type": "code",
      "metadata": {
        "id": "K_kN8YZm_5gv"
      },
      "source": [
        "dia_11_transacao_1 = 243\n",
        "dia_11_transacao_2 = -798.58\n",
        "dia_11_transacao_3 = 427.12\n",
        "dia_11_transacao_4 = -10.91"
      ],
      "execution_count": null,
      "outputs": []
    },
    {
      "cell_type": "code",
      "metadata": {
        "id": "oPuPUmzfAojH"
      },
      "source": [
        "dia_11_saldo_final = dia_11_saldo_inicial + dia_11_transacao_1 + dia_11_transacao_2 + dia_11_transacao_3 + dia_11_transacao_4"
      ],
      "execution_count": null,
      "outputs": []
    },
    {
      "cell_type": "code",
      "metadata": {
        "id": "vIGCRWomqbsl"
      },
      "source": [
        "print(dia_11_saldo_final)"
      ],
      "execution_count": null,
      "outputs": []
    },
    {
      "cell_type": "markdown",
      "metadata": {
        "id": "TfDH4namA43t"
      },
      "source": [
        "Será que exista uma forma melhor de armazenar as transações diárias?"
      ]
    },
    {
      "cell_type": "markdown",
      "metadata": {
        "id": "E6D5rjlESJ1A"
      },
      "source": [
        "### **1.2. Definição** "
      ]
    },
    {
      "cell_type": "markdown",
      "metadata": {
        "id": "ajMuhMQx3bfB"
      },
      "source": [
        "Armazenam sequências **mutáveis** e ordenadas de valores. São do tipo `list`:\n"
      ]
    },
    {
      "cell_type": "code",
      "metadata": {
        "id": "mtCBXOvB3bfd",
        "colab": {
          "base_uri": "https://localhost:8080/"
        },
        "outputId": "5090a12b-b9c8-41e0-8581-f37ec24e4722"
      },
      "source": [
        "usuario_web = ['André Perez', 'andre.perez', 'andre123', 'andre.perez@gmail.com']\n",
        "\n",
        "print(usuario_web)\n",
        "print(type(usuario_web))"
      ],
      "execution_count": 1,
      "outputs": [
        {
          "output_type": "stream",
          "name": "stdout",
          "text": [
            "['André Perez', 'andre.perez', 'andre123', 'andre.perez@gmail.com']\n",
            "<class 'list'>\n"
          ]
        }
      ]
    },
    {
      "cell_type": "code",
      "metadata": {
        "id": "IDyGAYp13bfe",
        "colab": {
          "base_uri": "https://localhost:8080/"
        },
        "outputId": "e94a50e5-2e10-4ae0-a859-73527f71723e"
      },
      "source": [
        "idade = 20\n",
        "saldo_em_conta = 723.15\n",
        "usuario_loggedin = True\n",
        "\n",
        "usuario_web = ['André Perez', idade, 'andre.perez', 'andre123', 'andre.perez@gmail.com', saldo_em_conta, usuario_loggedin]\n",
        "\n",
        "print(usuario_web)\n",
        "print(type(usuario_web))"
      ],
      "execution_count": 2,
      "outputs": [
        {
          "output_type": "stream",
          "name": "stdout",
          "text": [
            "['André Perez', 20, 'andre.perez', 'andre123', 'andre.perez@gmail.com', 723.15, True]\n",
            "<class 'list'>\n"
          ]
        }
      ]
    },
    {
      "cell_type": "markdown",
      "metadata": {
        "id": "wNkFG1qKSU9M"
      },
      "source": [
        "### **1.3. Operações** "
      ]
    },
    {
      "cell_type": "markdown",
      "metadata": {
        "id": "okUlGror3kEO"
      },
      "source": [
        "As operações da estrutura do tipo *list* são:\n",
        "\n",
        "\n",
        "*   `+` (concatenação)."
      ]
    },
    {
      "cell_type": "markdown",
      "metadata": {
        "id": "gI0uX4ba3xRt"
      },
      "source": [
        "**Exemplo**: Fabricantes de *hardware* mobile"
      ]
    },
    {
      "cell_type": "code",
      "metadata": {
        "id": "_yq5ifl536nt",
        "colab": {
          "base_uri": "https://localhost:8080/"
        },
        "outputId": "8585dfdd-f86c-4c6b-8b52-0d7e8e9e5622"
      },
      "source": [
        "fabricantes_mobile_china = ['xiaomi', 'huawei']\n",
        "fabricantes_mobile_eua = ['apple', 'motorola']\n",
        "fabricantes_mobile = fabricantes_mobile_china + fabricantes_mobile_eua\n",
        "\n",
        "print(fabricantes_mobile_china)\n",
        "print(fabricantes_mobile_eua)\n",
        "print(fabricantes_mobile)"
      ],
      "execution_count": 3,
      "outputs": [
        {
          "output_type": "stream",
          "name": "stdout",
          "text": [
            "['xiaomi', 'huawei']\n",
            "['apple', 'motorola']\n",
            "['xiaomi', 'huawei', 'apple', 'motorola']\n"
          ]
        }
      ]
    },
    {
      "cell_type": "markdown",
      "metadata": {
        "id": "ND9FzyEn5kFs"
      },
      "source": [
        "Outra operação muito utilizada é a de fatiamento (*slicing*), semelhante ao de *strings*:"
      ]
    },
    {
      "cell_type": "markdown",
      "metadata": {
        "id": "Y8b_DalN5x3D"
      },
      "source": [
        "Fatiamento fixo:"
      ]
    },
    {
      "cell_type": "code",
      "metadata": {
        "id": "sDxRHUKp5wFw",
        "colab": {
          "base_uri": "https://localhost:8080/"
        },
        "outputId": "a4c67185-b321-4cad-b1bd-181abac51672"
      },
      "source": [
        "print(f'0: {fabricantes_mobile[0]}')\n",
        "print(f'-1: {fabricantes_mobile[-1]}')"
      ],
      "execution_count": 4,
      "outputs": [
        {
          "output_type": "stream",
          "name": "stdout",
          "text": [
            "0: xiaomi\n",
            "-1: motorola\n"
          ]
        }
      ]
    },
    {
      "cell_type": "markdown",
      "metadata": {
        "id": "-xHG7dS16Qb4"
      },
      "source": [
        "Fatiamento por intervalo:"
      ]
    },
    {
      "cell_type": "code",
      "metadata": {
        "id": "09r1FMtN6USi",
        "colab": {
          "base_uri": "https://localhost:8080/"
        },
        "outputId": "745b25b9-fc0c-4716-85e8-4d4cd79a3275"
      },
      "source": [
        "fabricantes_mobile_china = fabricantes_mobile[0:2]\n",
        "fabricantes_mobile_eua = fabricantes_mobile[2:len(fabricantes_mobile)]\n",
        "\n",
        "# imprimindo fatiamento. Não esquecer de converter para str, se não dá erro.\n",
        "print('china: ' + str(fabricantes_mobile_china))\n",
        "print('eua: ' + str(fabricantes_mobile_eua))\n"
      ],
      "execution_count": 5,
      "outputs": [
        {
          "output_type": "stream",
          "name": "stdout",
          "text": [
            "china: ['xiaomi', 'huawei']\n",
            "eua: ['apple', 'motorola']\n"
          ]
        }
      ]
    },
    {
      "cell_type": "markdown",
      "metadata": {
        "id": "WH9TnU_z7hUt"
      },
      "source": [
        "Podemos adicionar elementos a uma posição específica da lista:"
      ]
    },
    {
      "cell_type": "code",
      "metadata": {
        "id": "DKYvexvX7p1_",
        "colab": {
          "base_uri": "https://localhost:8080/"
        },
        "outputId": "8315a511-851b-4494-eefa-2a3bbadbfdb8"
      },
      "source": [
        "print(fabricantes_mobile)"
      ],
      "execution_count": 6,
      "outputs": [
        {
          "output_type": "stream",
          "name": "stdout",
          "text": [
            "['xiaomi', 'huawei', 'apple', 'motorola']\n"
          ]
        }
      ]
    },
    {
      "cell_type": "code",
      "metadata": {
        "id": "eGYIk-vX8DQs",
        "colab": {
          "base_uri": "https://localhost:8080/"
        },
        "outputId": "d6f78436-481a-458d-b05e-c3776bf1add3"
      },
      "source": [
        "fabricantes_mobile[2] = 'nokia'\n",
        "print(fabricantes_mobile)"
      ],
      "execution_count": 7,
      "outputs": [
        {
          "output_type": "stream",
          "name": "stdout",
          "text": [
            "['xiaomi', 'huawei', 'nokia', 'motorola']\n"
          ]
        }
      ]
    },
    {
      "cell_type": "markdown",
      "metadata": {
        "id": "8rRaHG5K6-h3"
      },
      "source": [
        "### **1.4. Métodos**"
      ]
    },
    {
      "cell_type": "markdown",
      "metadata": {
        "id": "LoHEI8EP7KSb"
      },
      "source": [
        "São métodos nativos do Python que nos ajudam a trabalhar no dia a dia com listas."
      ]
    },
    {
      "cell_type": "code",
      "metadata": {
        "id": "O4Ke0FcG7Opv",
        "colab": {
          "base_uri": "https://localhost:8080/"
        },
        "outputId": "695c82a0-74bb-46ef-8e4d-8af227836e46"
      },
      "source": [
        "juros = [0.05, 0.07, 0.02, 0.04, 0.08]\n",
        "print(juros)"
      ],
      "execution_count": 8,
      "outputs": [
        {
          "output_type": "stream",
          "name": "stdout",
          "text": [
            "[0.05, 0.07, 0.02, 0.04, 0.08]\n"
          ]
        }
      ]
    },
    {
      "cell_type": "code",
      "metadata": {
        "id": "1PIOTSXT8uT7",
        "colab": {
          "base_uri": "https://localhost:8080/"
        },
        "outputId": "7cce13e6-b6d1-4ddb-aa15-545ede66c369"
      },
      "source": [
        "# inserir um elemento sem substituir: list.insert(index, val)\n",
        "juros.insert(0, 0.10)\n",
        "print(juros)"
      ],
      "execution_count": 9,
      "outputs": [
        {
          "output_type": "stream",
          "name": "stdout",
          "text": [
            "[0.1, 0.05, 0.07, 0.02, 0.04, 0.08]\n"
          ]
        }
      ]
    },
    {
      "cell_type": "code",
      "metadata": {
        "id": "-MMjKRzf9Ixy",
        "colab": {
          "base_uri": "https://localhost:8080/"
        },
        "outputId": "9ba364d4-e75a-4dce-85dc-215349e50008"
      },
      "source": [
        "# inserir um elemento no fim da lista: list.append(val)\n",
        "juros.append(0.09)\n",
        "print(juros)"
      ],
      "execution_count": 10,
      "outputs": [
        {
          "output_type": "stream",
          "name": "stdout",
          "text": [
            "[0.1, 0.05, 0.07, 0.02, 0.04, 0.08, 0.09]\n"
          ]
        }
      ]
    },
    {
      "cell_type": "code",
      "metadata": {
        "id": "PAfBwmkb9lF3",
        "colab": {
          "base_uri": "https://localhost:8080/"
        },
        "outputId": "f6427b24-243c-43a5-b3c0-385fe2d58db2"
      },
      "source": [
        "# remover um elemento pelo valor: list.remove(val)\n",
        "juros.remove(0.1)\n",
        "print(juros)"
      ],
      "execution_count": 11,
      "outputs": [
        {
          "output_type": "stream",
          "name": "stdout",
          "text": [
            "[0.05, 0.07, 0.02, 0.04, 0.08, 0.09]\n"
          ]
        }
      ]
    },
    {
      "cell_type": "code",
      "metadata": {
        "id": "E2rAo_0N9yp_",
        "colab": {
          "base_uri": "https://localhost:8080/"
        },
        "outputId": "acb0018e-4fae-421e-98b3-9406aecf5189"
      },
      "source": [
        "# remover um elemento pelo índice: list.pop(val)\n",
        "terceiro_juros = juros.pop(2)\n",
        "print(terceiro_juros)"
      ],
      "execution_count": 12,
      "outputs": [
        {
          "output_type": "stream",
          "name": "stdout",
          "text": [
            "0.02\n"
          ]
        }
      ]
    },
    {
      "cell_type": "code",
      "metadata": {
        "id": "cTZ-PpZjwrXh",
        "colab": {
          "base_uri": "https://localhost:8080/"
        },
        "outputId": "4d149789-73ac-4324-ee8b-4ea955c0edd2"
      },
      "source": [
        "print(juros)"
      ],
      "execution_count": 13,
      "outputs": [
        {
          "output_type": "stream",
          "name": "stdout",
          "text": [
            "[0.05, 0.07, 0.04, 0.08, 0.09]\n"
          ]
        }
      ]
    },
    {
      "cell_type": "markdown",
      "metadata": {
        "id": "NaXePKHx-J0H"
      },
      "source": [
        "### **1.5. Conversão**"
      ]
    },
    {
      "cell_type": "markdown",
      "metadata": {
        "id": "nxiiMN---dLL"
      },
      "source": [
        "Podemos converter alguns tipos de variáveis em listas, como *strings*."
      ]
    },
    {
      "cell_type": "code",
      "metadata": {
        "id": "DgZyBHJn-TWi",
        "colab": {
          "base_uri": "https://localhost:8080/"
        },
        "outputId": "46badefc-001c-409e-d2a7-25cfca6751fa"
      },
      "source": [
        "email = 'andre.perez@gmail.com'\n",
        "caracteres_email = list(email)\n",
        "\n",
        "print(email)\n",
        "print(caracteres_email)"
      ],
      "execution_count": 14,
      "outputs": [
        {
          "output_type": "stream",
          "name": "stdout",
          "text": [
            "andre.perez@gmail.com\n",
            "['a', 'n', 'd', 'r', 'e', '.', 'p', 'e', 'r', 'e', 'z', '@', 'g', 'm', 'a', 'i', 'l', '.', 'c', 'o', 'm']\n"
          ]
        }
      ]
    },
    {
      "cell_type": "markdown",
      "metadata": {
        "id": "hV8sOC7uSQsy"
      },
      "source": [
        "### **1.6. Revisitando a motivação** "
      ]
    },
    {
      "cell_type": "code",
      "metadata": {
        "id": "oov-ZttEBTJi"
      },
      "source": [
        "dia_11_saldo_inicial = 1000"
      ],
      "execution_count": 15,
      "outputs": []
    },
    {
      "cell_type": "code",
      "metadata": {
        "id": "QBK9CvnkBWAh",
        "colab": {
          "base_uri": "https://localhost:8080/"
        },
        "outputId": "02f13e8b-d99b-496c-a871-60337ade91a3"
      },
      "source": [
        "dia_11_transacoes = []\n",
        "\n",
        "dia_11_transacoes.append(243)\n",
        "dia_11_transacoes.append(-798.58)\n",
        "dia_11_transacoes.append(427.12)\n",
        "dia_11_transacoes.append(-10.91)\n",
        "\n",
        "print(dia_11_transacoes)"
      ],
      "execution_count": 16,
      "outputs": [
        {
          "output_type": "stream",
          "name": "stdout",
          "text": [
            "[243, -798.58, 427.12, -10.91]\n"
          ]
        }
      ]
    },
    {
      "cell_type": "code",
      "metadata": {
        "id": "3WIhTJkvBnn_",
        "colab": {
          "base_uri": "https://localhost:8080/"
        },
        "outputId": "26e10c6b-e23b-4654-da48-3ff9cbf74cb1"
      },
      "source": [
        "dia_11_saldo_final = dia_11_saldo_inicial + dia_11_transacoes[0] + dia_11_transacoes[1] + dia_11_transacoes[2] + dia_11_transacoes[3]\n",
        "print(dia_11_saldo_final)"
      ],
      "execution_count": 17,
      "outputs": [
        {
          "output_type": "stream",
          "name": "stdout",
          "text": [
            "860.63\n"
          ]
        }
      ]
    },
    {
      "cell_type": "markdown",
      "metadata": {
        "id": "4rRCvy_UURrM"
      },
      "source": [
        "## 2\\. Conjuntos"
      ]
    },
    {
      "cell_type": "markdown",
      "metadata": {
        "id": "Y1W9Hv8fURrZ"
      },
      "source": [
        "### **2.1. Motivação** "
      ]
    },
    {
      "cell_type": "markdown",
      "metadata": {
        "id": "yui33vLXavm9"
      },
      "source": [
        "Você trabalha como analista de dados de mídias sociais e precisa descobrir todas as *hashtags* que alcançaram o *top trending* do Twitter durante uma semana. Você já conseguiu as *hashtags* por dia da semana:"
      ]
    },
    {
      "cell_type": "code",
      "metadata": {
        "id": "EK9_cpdLbgUR"
      },
      "source": [
        "hashtags_seg = ['#tiago', '#joao', '#bbb']\n",
        "hashtags_ter = ['#sarah', '#bbb', '#fiuk']\n",
        "hashtags_qua = ['#gil', '#thelma', '#lourdes']\n",
        "hashtags_qui = ['#rafa', '#fora', '#danilo']\n",
        "hashtags_sex = ['#juliete', '#arthur', '#bbb']"
      ],
      "execution_count": 18,
      "outputs": []
    },
    {
      "cell_type": "markdown",
      "metadata": {
        "id": "poe2mVAlcIeB"
      },
      "source": [
        "Um simples concateção de listas fará com que a *hashtag* #bbb, entre outras, apareça mais de uma vez."
      ]
    },
    {
      "cell_type": "code",
      "metadata": {
        "id": "fGIykxP8cTZ5",
        "colab": {
          "base_uri": "https://localhost:8080/"
        },
        "outputId": "6b87dee2-cb4a-4389-e49c-d48db4e777e6"
      },
      "source": [
        "hashtags_semana = hashtags_seg + hashtags_ter + hashtags_qua + hashtags_qui + hashtags_sex\n",
        "print(hashtags_semana)"
      ],
      "execution_count": 19,
      "outputs": [
        {
          "output_type": "stream",
          "name": "stdout",
          "text": [
            "['#tiago', '#joao', '#bbb', '#sarah', '#bbb', '#fiuk', '#gil', '#thelma', '#lourdes', '#rafa', '#fora', '#danilo', '#juliete', '#arthur', '#bbb']\n"
          ]
        }
      ]
    },
    {
      "cell_type": "markdown",
      "metadata": {
        "id": "cOZDKbe6URrb"
      },
      "source": [
        "### **2.2. Definição** "
      ]
    },
    {
      "cell_type": "markdown",
      "metadata": {
        "id": "B9Bux1n0C2Hd"
      },
      "source": [
        "Armazenam sequências **imutáveis e desordenadas valores**, **sem repetição**. São do tipo `set`:"
      ]
    },
    {
      "cell_type": "code",
      "metadata": {
        "id": "_QL3pDMAE5oV",
        "colab": {
          "base_uri": "https://localhost:8080/"
        },
        "outputId": "f3943886-b324-4e02-e7ff-ff66f5042636"
      },
      "source": [
        "frutas = {'banana', 'maca', 'uva', 'uva'}\n",
        "\n",
        "print(frutas)\n",
        "print(type(frutas))"
      ],
      "execution_count": 20,
      "outputs": [
        {
          "output_type": "stream",
          "name": "stdout",
          "text": [
            "{'banana', 'uva', 'maca'}\n",
            "<class 'set'>\n"
          ]
        }
      ]
    },
    {
      "cell_type": "markdown",
      "metadata": {
        "id": "5q6xcwOWURrc"
      },
      "source": [
        "### **2.3. Operações** "
      ]
    },
    {
      "cell_type": "markdown",
      "metadata": {
        "id": "VjckMGhefqbI"
      },
      "source": [
        "As operações da estrutura do tipo *set* são:\n",
        "\n",
        "\n",
        "*   `-` (diferença)."
      ]
    },
    {
      "cell_type": "markdown",
      "metadata": {
        "id": "8t5unixyf2PQ"
      },
      "source": [
        "**Exemplo**: Países da europa."
      ]
    },
    {
      "cell_type": "code",
      "metadata": {
        "id": "sDM_I9xff1as"
      },
      "source": [
        "norte_europa = {'reino unido', 'suecia', 'russia', 'noruega', 'dinamarca'}\n",
        "escandinavia = {'noruega', 'dinamarca', 'suecia'}"
      ],
      "execution_count": 21,
      "outputs": []
    },
    {
      "cell_type": "code",
      "metadata": {
        "id": "nibhXuPHgD4I",
        "colab": {
          "base_uri": "https://localhost:8080/"
        },
        "outputId": "ff9faf3a-48b0-4a9f-f8a9-753f440e9ebb"
      },
      "source": [
        "norte_europa_nao_escandivano = norte_europa - escandinavia\n",
        "print(norte_europa_nao_escandivano)"
      ],
      "execution_count": 22,
      "outputs": [
        {
          "output_type": "stream",
          "name": "stdout",
          "text": [
            "{'russia', 'reino unido'}\n"
          ]
        }
      ]
    },
    {
      "cell_type": "code",
      "metadata": {
        "id": "UjsDawmDgoVD",
        "colab": {
          "base_uri": "https://localhost:8080/"
        },
        "outputId": "f70276d5-441b-487a-9ea8-dfe05961c233"
      },
      "source": [
        "escandivano_nao_norte_europa = escandinavia - norte_europa\n",
        "print(escandivano_nao_norte_europa)"
      ],
      "execution_count": 23,
      "outputs": [
        {
          "output_type": "stream",
          "name": "stdout",
          "text": [
            "set()\n"
          ]
        }
      ]
    },
    {
      "cell_type": "markdown",
      "metadata": {
        "id": "DK2jQGirhGWS"
      },
      "source": [
        "### **2.4. Métodos**"
      ]
    },
    {
      "cell_type": "markdown",
      "metadata": {
        "id": "A6cE9_1GhGWd"
      },
      "source": [
        "São métodos nativos do Python que nos ajudam a trabalhar no dia a dia com conjuntos."
      ]
    },
    {
      "cell_type": "code",
      "metadata": {
        "id": "IW0jfAUmhGWd",
        "colab": {
          "base_uri": "https://localhost:8080/"
        },
        "outputId": "856fdcf0-01ab-47e2-e28f-a41675071495"
      },
      "source": [
        "cursos = {'Exatas', 'Humanas', 'Biológicas'}\n",
        "print(cursos)"
      ],
      "execution_count": 24,
      "outputs": [
        {
          "output_type": "stream",
          "name": "stdout",
          "text": [
            "{'Humanas', 'Exatas', 'Biológicas'}\n"
          ]
        }
      ]
    },
    {
      "cell_type": "code",
      "metadata": {
        "id": "hJDBambLhGWe",
        "colab": {
          "base_uri": "https://localhost:8080/"
        },
        "outputId": "bab69b11-71bf-4dc0-addf-2b526e7165ea"
      },
      "source": [
        "# inserir um elemento no conjunto: set.add(val)\n",
        "cursos.add('Saúde')\n",
        "print(cursos)"
      ],
      "execution_count": 25,
      "outputs": [
        {
          "output_type": "stream",
          "name": "stdout",
          "text": [
            "{'Humanas', 'Exatas', 'Saúde', 'Biológicas'}\n"
          ]
        }
      ]
    },
    {
      "cell_type": "code",
      "metadata": {
        "id": "2PW8RfTyhGWe",
        "colab": {
          "base_uri": "https://localhost:8080/"
        },
        "outputId": "300bf8c2-0dc2-422c-8bc1-ee9c23bcdd0a"
      },
      "source": [
        "# remover um elemento no conjunto: set.remove(val)\n",
        "cursos.remove('Saúde')\n",
        "print(cursos)"
      ],
      "execution_count": 26,
      "outputs": [
        {
          "output_type": "stream",
          "name": "stdout",
          "text": [
            "{'Humanas', 'Exatas', 'Biológicas'}\n"
          ]
        }
      ]
    },
    {
      "cell_type": "markdown",
      "metadata": {
        "id": "lR8W6YlthGWe"
      },
      "source": [
        "### **2.5. Conversão**"
      ]
    },
    {
      "cell_type": "markdown",
      "metadata": {
        "id": "FcIR2JcbhGWe"
      },
      "source": [
        "Podemos converter conjuntos para lista e vice e versa."
      ]
    },
    {
      "cell_type": "code",
      "metadata": {
        "id": "XZU1XQZbhGWf",
        "colab": {
          "base_uri": "https://localhost:8080/"
        },
        "outputId": "0e17c27b-ae67-4bf8-f555-2c228b60caa8"
      },
      "source": [
        "times_paulistas = {'São Paulo', 'Palmeiras', 'Corinthians', 'Santos'}\n",
        "\n",
        "print(times_paulistas)\n",
        "print(type(times_paulistas))"
      ],
      "execution_count": 27,
      "outputs": [
        {
          "output_type": "stream",
          "name": "stdout",
          "text": [
            "{'Corinthians', 'Santos', 'Palmeiras', 'São Paulo'}\n",
            "<class 'set'>\n"
          ]
        }
      ]
    },
    {
      "cell_type": "code",
      "metadata": {
        "id": "tBGFyE12iQ4O",
        "colab": {
          "base_uri": "https://localhost:8080/"
        },
        "outputId": "c99b8b4c-0f66-4291-e5c1-ed519a0e2024"
      },
      "source": [
        "print(list(times_paulistas))\n",
        "print(type(list(times_paulistas)))"
      ],
      "execution_count": 28,
      "outputs": [
        {
          "output_type": "stream",
          "name": "stdout",
          "text": [
            "['Corinthians', 'Santos', 'Palmeiras', 'São Paulo']\n",
            "<class 'list'>\n"
          ]
        }
      ]
    },
    {
      "cell_type": "markdown",
      "metadata": {
        "id": "WxnG-e3HURrd"
      },
      "source": [
        "### **2.6. Revisitando a motivação** "
      ]
    },
    {
      "cell_type": "code",
      "metadata": {
        "id": "LdF2ImcecyBI",
        "colab": {
          "base_uri": "https://localhost:8080/"
        },
        "outputId": "20055afe-1830-41b2-a04b-763aa7911dd9"
      },
      "source": [
        "print(hashtags_semana)\n",
        "print(len(hashtags_semana))"
      ],
      "execution_count": 29,
      "outputs": [
        {
          "output_type": "stream",
          "name": "stdout",
          "text": [
            "['#tiago', '#joao', '#bbb', '#sarah', '#bbb', '#fiuk', '#gil', '#thelma', '#lourdes', '#rafa', '#fora', '#danilo', '#juliete', '#arthur', '#bbb']\n",
            "15\n"
          ]
        }
      ]
    },
    {
      "cell_type": "code",
      "metadata": {
        "id": "7u48dmrPco9Q",
        "colab": {
          "base_uri": "https://localhost:8080/"
        },
        "outputId": "418eafab-eac0-4d96-d4bb-af5dd8224393"
      },
      "source": [
        "hashtags_semana = list(set(hashtags_seg + hashtags_ter + hashtags_qua + hashtags_qui + hashtags_sex))\n",
        "\n",
        "print(hashtags_semana)\n",
        "print(len(hashtags_semana))"
      ],
      "execution_count": 30,
      "outputs": [
        {
          "output_type": "stream",
          "name": "stdout",
          "text": [
            "['#joao', '#fiuk', '#rafa', '#lourdes', '#gil', '#bbb', '#arthur', '#tiago', '#juliete', '#fora', '#danilo', '#thelma', '#sarah']\n",
            "13\n"
          ]
        }
      ]
    },
    {
      "cell_type": "markdown",
      "metadata": {
        "id": "ELgoMRAAUSjv"
      },
      "source": [
        "## 3\\. Dicionários"
      ]
    },
    {
      "cell_type": "markdown",
      "metadata": {
        "id": "CuLkQY76USjw"
      },
      "source": [
        "### **3.1. Motivação** "
      ]
    },
    {
      "cell_type": "markdown",
      "metadata": {
        "id": "K5Wnzl1UdShI"
      },
      "source": [
        "Para se conectar a uma rede wi-fi, você precisa de duas informações: o nome da rede e a senha de acesso. Quando você vai acessar uma nova rede, você encontra uma lista de redes disponíveis: "
      ]
    },
    {
      "cell_type": "code",
      "metadata": {
        "id": "Ah1dmE4Qdv-A",
        "colab": {
          "base_uri": "https://localhost:8080/"
        },
        "outputId": "98a0f827-f5e4-40dc-fe7b-386df56cd204"
      },
      "source": [
        "wifi_disponiveis = ['rede1', 'cnx_cnx', 'uai-fi', 'r3d3']\n",
        "print(wifi_disponiveis)"
      ],
      "execution_count": 31,
      "outputs": [
        {
          "output_type": "stream",
          "name": "stdout",
          "text": [
            "['rede1', 'cnx_cnx', 'uai-fi', 'r3d3']\n"
          ]
        }
      ]
    },
    {
      "cell_type": "markdown",
      "metadata": {
        "id": "auR4rPNAeCgO"
      },
      "source": [
        "Você consegue identificar quais são os nome de redes e suas respectivas senhas? Talvez uma `list` não seja a melhor opção para armazenar esse tipo de dado."
      ]
    },
    {
      "cell_type": "markdown",
      "metadata": {
        "id": "JENLdmHkUSjx"
      },
      "source": [
        "### **3.2. Definição** "
      ]
    },
    {
      "cell_type": "markdown",
      "metadata": {
        "id": "U3lwWzl38zuT"
      },
      "source": [
        "Armazenam sequências no formato **chave-valor.** São do tipo `dict`.\n"
      ]
    },
    {
      "cell_type": "code",
      "metadata": {
        "id": "OUR6zdcni2jS",
        "colab": {
          "base_uri": "https://localhost:8080/"
        },
        "outputId": "31596438-d632-42d6-8a95-59a629621f35"
      },
      "source": [
        "brasil = {'capital': 'Brasília', 'idioma': 'Português', 'populacao': 210}\n",
        "\n",
        "print(brasil)\n",
        "print(type(brasil))"
      ],
      "execution_count": 32,
      "outputs": [
        {
          "output_type": "stream",
          "name": "stdout",
          "text": [
            "{'capital': 'Brasília', 'idioma': 'Português', 'populacao': 210}\n",
            "<class 'dict'>\n"
          ]
        }
      ]
    },
    {
      "cell_type": "markdown",
      "metadata": {
        "id": "cPj56yhmIJg4"
      },
      "source": [
        "**Não permite chaves duplicadas.**"
      ]
    },
    {
      "cell_type": "code",
      "metadata": {
        "id": "5a8o-NP4ITnd",
        "colab": {
          "base_uri": "https://localhost:8080/"
        },
        "outputId": "7edc9dff-f8fa-4cf9-8661-3e32913b4ba5"
      },
      "source": [
        "carro = {\n",
        "    'marca': 'Volkswagen',\n",
        "    'modelo': 'Polo',\n",
        "    'ano': 2021,\n",
        "    'ano': 2004\n",
        "}\n",
        "\n",
        "print(carro)"
      ],
      "execution_count": 33,
      "outputs": [
        {
          "output_type": "stream",
          "name": "stdout",
          "text": [
            "{'marca': 'Volkswagen', 'modelo': 'Polo', 'ano': 2004}\n"
          ]
        }
      ]
    },
    {
      "cell_type": "markdown",
      "metadata": {
        "id": "0tE9-pPrOIxH"
      },
      "source": [
        "Podemos criar dicionários compostos:"
      ]
    },
    {
      "cell_type": "code",
      "metadata": {
        "id": "bTeSsI9FOO4h",
        "colab": {
          "base_uri": "https://localhost:8080/"
        },
        "outputId": "e6ff164c-e602-4851-da84-771099c8ecc8"
      },
      "source": [
        "cadastro = {\n",
        "    'andre': {\n",
        "        'nome': 'Andre Perez', \n",
        "        'ano_nascimento': 1992, \n",
        "        'pais': {\n",
        "            'pai': {\n",
        "              'nome': '<nome-do-pai> Perez', \n",
        "              'ano_nascimento': 1971\n",
        "            },\n",
        "            'mae': {\n",
        "              'nome': '<nome-da-mae> Perez', \n",
        "              'ano_nascimento': 1973\n",
        "            },\n",
        "        }\n",
        "    }\n",
        "}\n",
        "\n",
        "print(cadastro)"
      ],
      "execution_count": 34,
      "outputs": [
        {
          "output_type": "stream",
          "name": "stdout",
          "text": [
            "{'andre': {'nome': 'Andre Perez', 'ano_nascimento': 1992, 'pais': {'pai': {'nome': '<nome-do-pai> Perez', 'ano_nascimento': 1971}, 'mae': {'nome': '<nome-da-mae> Perez', 'ano_nascimento': 1973}}}}\n"
          ]
        }
      ]
    },
    {
      "cell_type": "code",
      "metadata": {
        "id": "hzJjKGtZ-DmB",
        "colab": {
          "base_uri": "https://localhost:8080/"
        },
        "outputId": "07ad3c2c-a396-4f79-f575-00697ef0c270"
      },
      "source": [
        "cadastro['andre']['pais']['mae']"
      ],
      "execution_count": 38,
      "outputs": [
        {
          "output_type": "execute_result",
          "data": {
            "text/plain": [
              "{'nome': '<nome-da-mae> Perez', 'ano_nascimento': 1973}"
            ]
          },
          "metadata": {},
          "execution_count": 38
        }
      ]
    },
    {
      "cell_type": "markdown",
      "metadata": {
        "id": "qcHSzY6kUSjy"
      },
      "source": [
        "### **3.3. Operações** "
      ]
    },
    {
      "cell_type": "code",
      "metadata": {
        "id": "XmfvRWVTKZLn"
      },
      "source": [
        "credito = {'123': 750, '789': 980}"
      ],
      "execution_count": 35,
      "outputs": []
    },
    {
      "cell_type": "markdown",
      "metadata": {
        "id": "RVwYx41eI6BT"
      },
      "source": [
        "Elementos são acessados pela sua chave."
      ]
    },
    {
      "cell_type": "code",
      "metadata": {
        "id": "A05RBP9QKsgh",
        "colab": {
          "base_uri": "https://localhost:8080/"
        },
        "outputId": "948642e4-4599-4a48-e642-77111c4bfe0d"
      },
      "source": [
        "score_123 = credito['123']\n",
        "score_789 = credito['789']\n",
        "\n",
        "print(score_123)\n",
        "print(score_789)"
      ],
      "execution_count": 40,
      "outputs": [
        {
          "output_type": "stream",
          "name": "stdout",
          "text": [
            "435\n",
            "980\n"
          ]
        }
      ]
    },
    {
      "cell_type": "markdown",
      "metadata": {
        "id": "OZYYChDVLEQm"
      },
      "source": [
        "Elementos são atualizados pela sua chave."
      ]
    },
    {
      "cell_type": "code",
      "metadata": {
        "id": "crkXt8TzLfp2",
        "colab": {
          "base_uri": "https://localhost:8080/"
        },
        "outputId": "a31684dd-a0ff-469d-da3c-90eb043d9af6"
      },
      "source": [
        "credito['123'] = 435\n",
        "print(credito)"
      ],
      "execution_count": 39,
      "outputs": [
        {
          "output_type": "stream",
          "name": "stdout",
          "text": [
            "{'123': 435, '789': 980}\n"
          ]
        }
      ]
    },
    {
      "cell_type": "markdown",
      "metadata": {
        "id": "pE_a-ii5L82k"
      },
      "source": [
        "Para adicionar um novo elemento, basta criar um novo elemento chave-valor:"
      ]
    },
    {
      "cell_type": "code",
      "metadata": {
        "id": "Dq0mM6URMAe-",
        "colab": {
          "base_uri": "https://localhost:8080/"
        },
        "outputId": "b4629d58-d555-4fa3-c935-1cae7d0d5be9"
      },
      "source": [
        "credito['456'] = 1000\n",
        "print(credito)"
      ],
      "execution_count": 41,
      "outputs": [
        {
          "output_type": "stream",
          "name": "stdout",
          "text": [
            "{'123': 435, '789': 980, '456': 1000}\n"
          ]
        }
      ]
    },
    {
      "cell_type": "markdown",
      "metadata": {
        "id": "UCUO_UdUJPI8"
      },
      "source": [
        "### **3.4. Métodos**"
      ]
    },
    {
      "cell_type": "markdown",
      "metadata": {
        "id": "cncT52BYJVeD"
      },
      "source": [
        "São métodos nativos do Python que nos ajudam a trabalhar no dia a dia com dicionários."
      ]
    },
    {
      "cell_type": "code",
      "metadata": {
        "id": "qwxwzPsTJcXn"
      },
      "source": [
        "artigo = dict(\n",
        "    titulo='Modulo 02 | Python: Estruturas de Dados',\n",
        "    corpo='Topicos, Aulas, Listas, Conjuntos, Dicionários, ...',\n",
        "    total_caracteres=1530\n",
        ")"
      ],
      "execution_count": 42,
      "outputs": []
    },
    {
      "cell_type": "code",
      "metadata": {
        "id": "QZJ4D_eRNyc_",
        "colab": {
          "base_uri": "https://localhost:8080/"
        },
        "outputId": "1978c4c9-b585-44fd-adf7-24ac5b34aec0"
      },
      "source": [
        "# adicionar/atualizar um elemento pelo chave-valor: dict.update(dict)\n",
        "print(artigo)\n",
        "artigo.update({'total_caracteres': 7850})\n",
        "print(artigo)\n",
        "\n",
        "artigo['total_caracteres'] = 7850"
      ],
      "execution_count": 43,
      "outputs": [
        {
          "output_type": "stream",
          "name": "stdout",
          "text": [
            "{'titulo': 'Modulo 02 | Python: Estruturas de Dados', 'corpo': 'Topicos, Aulas, Listas, Conjuntos, Dicionários, ...', 'total_caracteres': 1530}\n",
            "{'titulo': 'Modulo 02 | Python: Estruturas de Dados', 'corpo': 'Topicos, Aulas, Listas, Conjuntos, Dicionários, ...', 'total_caracteres': 7850}\n"
          ]
        }
      ]
    },
    {
      "cell_type": "code",
      "metadata": {
        "id": "ofz4lbceMx_4",
        "colab": {
          "base_uri": "https://localhost:8080/"
        },
        "outputId": "e624fb4a-bb3b-448f-9836-911c40e66396"
      },
      "source": [
        "# remover um elemento pelo chave: dict.pop(key)\n",
        "print(artigo)\n",
        "total_caracteres = artigo.pop('total_caracteres')\n",
        "print(artigo)"
      ],
      "execution_count": 44,
      "outputs": [
        {
          "output_type": "stream",
          "name": "stdout",
          "text": [
            "{'titulo': 'Modulo 02 | Python: Estruturas de Dados', 'corpo': 'Topicos, Aulas, Listas, Conjuntos, Dicionários, ...', 'total_caracteres': 7850}\n",
            "{'titulo': 'Modulo 02 | Python: Estruturas de Dados', 'corpo': 'Topicos, Aulas, Listas, Conjuntos, Dicionários, ...'}\n"
          ]
        }
      ]
    },
    {
      "cell_type": "markdown",
      "metadata": {
        "id": "h0bXPXycjfpw"
      },
      "source": [
        "### **3.5. Conversão**"
      ]
    },
    {
      "cell_type": "markdown",
      "metadata": {
        "id": "CnzLEEYOjfp2"
      },
      "source": [
        "Podemos converter as chaves e os items de um dicionário em uma lista."
      ]
    },
    {
      "cell_type": "code",
      "metadata": {
        "id": "10CkP3RjkD9x"
      },
      "source": [
        "artigo = dict(\n",
        "    titulo='Modulo 02 | Python: Estruturas de Dados',\n",
        "    corpo='Topicos, Aulas, Listas, Conjuntos, Dicionários, ...',\n",
        "    total_caracteres=1530\n",
        ")"
      ],
      "execution_count": 45,
      "outputs": []
    },
    {
      "cell_type": "code",
      "metadata": {
        "id": "bwmEXzxnjfp3",
        "colab": {
          "base_uri": "https://localhost:8080/"
        },
        "outputId": "ded03ca8-7a4b-483f-8a32-bc316cc448a4"
      },
      "source": [
        "chaves = list(artigo.keys())\n",
        "\n",
        "print(chaves)\n",
        "print(type(chaves))"
      ],
      "execution_count": 46,
      "outputs": [
        {
          "output_type": "stream",
          "name": "stdout",
          "text": [
            "['titulo', 'corpo', 'total_caracteres']\n",
            "<class 'list'>\n"
          ]
        }
      ]
    },
    {
      "cell_type": "code",
      "metadata": {
        "id": "UiP-UQxhjfp5",
        "colab": {
          "base_uri": "https://localhost:8080/"
        },
        "outputId": "f14989ae-8d32-46d8-c159-bab9b0634ef3"
      },
      "source": [
        "valores = list(artigo.values())\n",
        "\n",
        "print(valores)\n",
        "print(type(valores))"
      ],
      "execution_count": 47,
      "outputs": [
        {
          "output_type": "stream",
          "name": "stdout",
          "text": [
            "['Modulo 02 | Python: Estruturas de Dados', 'Topicos, Aulas, Listas, Conjuntos, Dicionários, ...', 1530]\n",
            "<class 'list'>\n"
          ]
        }
      ]
    },
    {
      "cell_type": "markdown",
      "metadata": {
        "id": "Nq0WCx8HUSjz"
      },
      "source": [
        "### **3.6. Revisitando a motivação** "
      ]
    },
    {
      "cell_type": "code",
      "metadata": {
        "id": "AZHrKx9ZesI5"
      },
      "source": [
        "wifi_disponiveis = []"
      ],
      "execution_count": 48,
      "outputs": []
    },
    {
      "cell_type": "code",
      "metadata": {
        "id": "4y3-5GCGeZpR"
      },
      "source": [
        "rede = {'nome': 'rede1', 'senha': 'cnx_cnx'}\n",
        "wifi_disponiveis.append(rede)"
      ],
      "execution_count": 49,
      "outputs": []
    },
    {
      "cell_type": "code",
      "metadata": {
        "id": "CPzYATO8ev7D"
      },
      "source": [
        "rede = {'nome': 'uai-fi', 'senha': 'r3d3'}\n",
        "wifi_disponiveis.append(rede)"
      ],
      "execution_count": 50,
      "outputs": []
    },
    {
      "cell_type": "code",
      "metadata": {
        "id": "0YznnPL4e3H1",
        "colab": {
          "base_uri": "https://localhost:8080/"
        },
        "outputId": "1a59ecf6-31ce-4e8a-a5a5-6ad4a2162493"
      },
      "source": [
        "print(wifi_disponiveis)"
      ],
      "execution_count": 51,
      "outputs": [
        {
          "output_type": "stream",
          "name": "stdout",
          "text": [
            "[{'nome': 'rede1', 'senha': 'cnx_cnx'}, {'nome': 'uai-fi', 'senha': 'r3d3'}]\n"
          ]
        }
      ]
    }
  ]
}